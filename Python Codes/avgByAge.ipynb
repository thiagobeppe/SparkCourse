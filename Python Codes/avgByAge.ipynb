{
 "cells": [
  {
   "cell_type": "code",
   "execution_count": 123,
   "metadata": {},
   "outputs": [
    {
     "data": {
      "text/html": [
       "\n",
       "        <div>\n",
       "            <p><b>SparkContext</b></p>\n",
       "\n",
       "            <p><a href=\"http://192.168.0.14:4040\">Spark UI</a></p>\n",
       "\n",
       "            <dl>\n",
       "              <dt>Version</dt>\n",
       "                <dd><code>v3.0.0-preview2</code></dd>\n",
       "              <dt>Master</dt>\n",
       "                <dd><code>local[*]</code></dd>\n",
       "              <dt>AppName</dt>\n",
       "                <dd><code>PySparkShell</code></dd>\n",
       "            </dl>\n",
       "        </div>\n",
       "        "
      ],
      "text/plain": [
       "<SparkContext master=local[*] appName=PySparkShell>"
      ]
     },
     "execution_count": 123,
     "metadata": {},
     "output_type": "execute_result"
    }
   ],
   "source": [
    "from pyspark import SparkContext\n",
    "#Get the context of the spark localy\n",
    "sc = SparkContext.getOrCreate()\n",
    "sc"
   ]
  },
  {
   "cell_type": "code",
   "execution_count": 124,
   "metadata": {},
   "outputs": [],
   "source": [
    "#Splitting the data by comma, and return a pair of age and number of friends\n",
    "def parseValue(line):\n",
    "    splited = line.split(',')\n",
    "    age = int(splited[2])\n",
    "    numFriends = int(splited[3])\n",
    "    return (age,numFriends)"
   ]
  },
  {
   "cell_type": "code",
   "execution_count": 125,
   "metadata": {},
   "outputs": [],
   "source": [
    "#Reading the csv file\n",
    "text = sc.textFile('../datasets/fakefriends.csv')"
   ]
  },
  {
   "cell_type": "code",
   "execution_count": 126,
   "metadata": {},
   "outputs": [],
   "source": [
    "#Apply the function\n",
    "rdd = text.map(parseValue)"
   ]
  },
  {
   "cell_type": "code",
   "execution_count": 135,
   "metadata": {},
   "outputs": [],
   "source": [
    "#mapValues -> x = (33,185) => (33,(185,1)) to aggregate more easily the avg of friends by the age\n",
    "#reduce -> x = (33,(185,1)), y = (33,(22,1)) => (33,(207,2))\n",
    "#After this we have the number of total friends by age, and the number of peoples with 33 years\n",
    "totalByAge = rdd.mapValues(lambda x: (x,1)).reduceByKey(lambda x,y: (x[0] + y[0], x[1]+y[1]))"
   ]
  },
  {
   "cell_type": "code",
   "execution_count": 131,
   "metadata": {
    "scrolled": false
   },
   "outputs": [],
   "source": [
    "#Take the avg\n",
    "avgByYear = totalByAge.mapValues(lambda x: x[0]//x[1])"
   ]
  },
  {
   "cell_type": "code",
   "execution_count": 134,
   "metadata": {},
   "outputs": [
    {
     "name": "stdout",
     "output_type": "stream",
     "text": [
      "(18, 343)\n",
      "(19, 213)\n",
      "(20, 165)\n",
      "(21, 350)\n",
      "(22, 206)\n",
      "(23, 246)\n",
      "(24, 233)\n",
      "(25, 197)\n",
      "(26, 242)\n",
      "(27, 228)\n",
      "(28, 209)\n",
      "(29, 215)\n",
      "(30, 235)\n",
      "(31, 267)\n",
      "(32, 207)\n",
      "(33, 325)\n",
      "(34, 245)\n",
      "(35, 211)\n",
      "(36, 246)\n",
      "(37, 249)\n",
      "(38, 193)\n",
      "(39, 169)\n",
      "(40, 250)\n",
      "(41, 268)\n",
      "(42, 303)\n",
      "(43, 230)\n",
      "(44, 282)\n",
      "(45, 309)\n",
      "(46, 223)\n",
      "(47, 233)\n",
      "(48, 281)\n",
      "(49, 184)\n",
      "(50, 254)\n",
      "(51, 302)\n",
      "(52, 340)\n",
      "(53, 222)\n",
      "(54, 278)\n",
      "(55, 295)\n",
      "(56, 306)\n",
      "(57, 258)\n",
      "(58, 116)\n",
      "(59, 220)\n",
      "(60, 202)\n",
      "(61, 256)\n",
      "(62, 220)\n",
      "(63, 384)\n",
      "(64, 281)\n",
      "(65, 298)\n",
      "(66, 276)\n",
      "(67, 214)\n",
      "(68, 269)\n",
      "(69, 235)\n"
     ]
    }
   ],
   "source": [
    "for i in avgByYear.sortByKey().collect():\n",
    "    print(i)"
   ]
  },
  {
   "cell_type": "code",
   "execution_count": null,
   "metadata": {},
   "outputs": [],
   "source": []
  }
 ],
 "metadata": {
  "kernelspec": {
   "display_name": "Python 3",
   "language": "python",
   "name": "python3"
  },
  "language_info": {
   "codemirror_mode": {
    "name": "ipython",
    "version": 3
   },
   "file_extension": ".py",
   "mimetype": "text/x-python",
   "name": "python",
   "nbconvert_exporter": "python",
   "pygments_lexer": "ipython3",
   "version": "3.7.6"
  }
 },
 "nbformat": 4,
 "nbformat_minor": 4
}
