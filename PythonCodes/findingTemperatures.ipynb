{
 "cells": [
  {
   "cell_type": "code",
   "execution_count": 25,
   "metadata": {},
   "outputs": [],
   "source": [
    "from pyspark import SparkContext"
   ]
  },
  {
   "cell_type": "code",
   "execution_count": 26,
   "metadata": {},
   "outputs": [
    {
     "data": {
      "text/html": [
       "\n",
       "        <div>\n",
       "            <p><b>SparkContext</b></p>\n",
       "\n",
       "            <p><a href=\"http://192.168.0.25:4040\">Spark UI</a></p>\n",
       "\n",
       "            <dl>\n",
       "              <dt>Version</dt>\n",
       "                <dd><code>v3.0.0-preview2</code></dd>\n",
       "              <dt>Master</dt>\n",
       "                <dd><code>local[*]</code></dd>\n",
       "              <dt>AppName</dt>\n",
       "                <dd><code>PySparkShell</code></dd>\n",
       "            </dl>\n",
       "        </div>\n",
       "        "
      ],
      "text/plain": [
       "<SparkContext master=local[*] appName=PySparkShell>"
      ]
     },
     "execution_count": 26,
     "metadata": {},
     "output_type": "execute_result"
    }
   ],
   "source": [
    "sc = SparkContext.getOrCreate()\n",
    "sc"
   ]
  },
  {
   "cell_type": "code",
   "execution_count": 27,
   "metadata": {},
   "outputs": [],
   "source": [
    "def parseLines(line):\n",
    "    parsed = line.split(',')\n",
    "    stationId = parsed[0]\n",
    "    entryType = parsed[2]\n",
    "    temperature = float(parsed[3]) * 0.1 * (9.0 / 5.0) + 32.0\n",
    "    return [stationId,entryType, temperature]"
   ]
  },
  {
   "cell_type": "code",
   "execution_count": 28,
   "metadata": {},
   "outputs": [
    {
     "data": {
      "text/plain": [
       "['ITE00100554,18000101,TMAX,-75,,,E,',\n",
       " 'ITE00100554,18000101,TMIN,-148,,,E,',\n",
       " 'GM000010962,18000101,PRCP,0,,,E,',\n",
       " 'EZE00100082,18000101,TMAX,-86,,,E,',\n",
       " 'EZE00100082,18000101,TMIN,-135,,,E,',\n",
       " 'ITE00100554,18000102,TMAX,-60,,I,E,',\n",
       " 'ITE00100554,18000102,TMIN,-125,,,E,',\n",
       " 'GM000010962,18000102,PRCP,0,,,E,',\n",
       " 'EZE00100082,18000102,TMAX,-44,,,E,',\n",
       " 'EZE00100082,18000102,TMIN,-130,,,E,']"
      ]
     },
     "execution_count": 28,
     "metadata": {},
     "output_type": "execute_result"
    }
   ],
   "source": [
    "rdd = sc.textFile(\"../datasets/1800.csv\")\n",
    "rdd.take(10)"
   ]
  },
  {
   "cell_type": "code",
   "execution_count": 29,
   "metadata": {},
   "outputs": [
    {
     "data": {
      "text/plain": [
       "[['ITE00100554', 'TMAX', 18.5],\n",
       " ['ITE00100554', 'TMIN', 5.359999999999999],\n",
       " ['GM000010962', 'PRCP', 32.0],\n",
       " ['EZE00100082', 'TMAX', 16.52],\n",
       " ['EZE00100082', 'TMIN', 7.699999999999999],\n",
       " ['ITE00100554', 'TMAX', 21.2],\n",
       " ['ITE00100554', 'TMIN', 9.5],\n",
       " ['GM000010962', 'PRCP', 32.0],\n",
       " ['EZE00100082', 'TMAX', 24.08],\n",
       " ['EZE00100082', 'TMIN', 8.599999999999998]]"
      ]
     },
     "execution_count": 29,
     "metadata": {},
     "output_type": "execute_result"
    }
   ],
   "source": [
    "parsedRdd = rdd.map(parseLines)\n",
    "parsedRdd.take(10)"
   ]
  },
  {
   "cell_type": "code",
   "execution_count": 30,
   "metadata": {},
   "outputs": [
    {
     "data": {
      "text/plain": [
       "[['ITE00100554', 'TMIN', 5.359999999999999],\n",
       " ['EZE00100082', 'TMIN', 7.699999999999999],\n",
       " ['ITE00100554', 'TMIN', 9.5],\n",
       " ['EZE00100082', 'TMIN', 8.599999999999998],\n",
       " ['ITE00100554', 'TMIN', 23.72],\n",
       " ['EZE00100082', 'TMIN', 18.86],\n",
       " ['ITE00100554', 'TMIN', 29.66],\n",
       " ['EZE00100082', 'TMIN', 18.68],\n",
       " ['ITE00100554', 'TMIN', 30.919999999999998],\n",
       " ['EZE00100082', 'TMIN', 21.56]]"
      ]
     },
     "execution_count": 30,
     "metadata": {},
     "output_type": "execute_result"
    }
   ],
   "source": [
    "filteredRdd = parsedRdd.filter( lambda x : x[1] == 'TMIN')\n",
    "filteredRdd.take(10)"
   ]
  },
  {
   "cell_type": "code",
   "execution_count": 31,
   "metadata": {},
   "outputs": [
    {
     "data": {
      "text/plain": [
       "[['ITE00100554', 5.359999999999999],\n",
       " ['EZE00100082', 7.699999999999999],\n",
       " ['ITE00100554', 9.5],\n",
       " ['EZE00100082', 8.599999999999998],\n",
       " ['ITE00100554', 23.72],\n",
       " ['EZE00100082', 18.86],\n",
       " ['ITE00100554', 29.66],\n",
       " ['EZE00100082', 18.68],\n",
       " ['ITE00100554', 30.919999999999998],\n",
       " ['EZE00100082', 21.56]]"
      ]
     },
     "execution_count": 31,
     "metadata": {},
     "output_type": "execute_result"
    }
   ],
   "source": [
    "toReduceRdd = filteredRdd.map(lambda x: [x[0],x[2]])\n",
    "toReduceRdd.take(10)"
   ]
  },
  {
   "cell_type": "code",
   "execution_count": 32,
   "metadata": {},
   "outputs": [
    {
     "data": {
      "text/plain": [
       "[('ITE00100554', 5.359999999999999), ('EZE00100082', 7.699999999999999)]"
      ]
     },
     "execution_count": 32,
     "metadata": {},
     "output_type": "execute_result"
    }
   ],
   "source": [
    "reducedRdd = toReduceRdd.reduceByKey(lambda x,y: min(x,y))\n",
    "reducedRdd.collect()"
   ]
  },
  {
   "cell_type": "code",
   "execution_count": 33,
   "metadata": {},
   "outputs": [
    {
     "data": {
      "text/plain": [
       "[('EZE00100082', 7.699999999999999), ('ITE00100554', 5.359999999999999)]"
      ]
     },
     "execution_count": 33,
     "metadata": {},
     "output_type": "execute_result"
    }
   ],
   "source": [
    "toShow = sorted(dict(reducedRdd.collect()).items())\n",
    "toShow"
   ]
  },
  {
   "cell_type": "code",
   "execution_count": 34,
   "metadata": {},
   "outputs": [
    {
     "name": "stdout",
     "output_type": "stream",
     "text": [
      "EZE00100082 minimun temperature: 7.70\n",
      "ITE00100554 minimun temperature: 5.36\n"
     ]
    }
   ],
   "source": [
    "for i in toShow:\n",
    "    print(\"{} minimun temperature: {:.2f}\".format(i[0],i[1]))"
   ]
  },
  {
   "cell_type": "code",
   "execution_count": 59,
   "metadata": {},
   "outputs": [],
   "source": [
    "def findMinimum(rdd):\n",
    "    processedMin = rdd.map(parseLines).filter(lambda x: x[1] == \"TMIN\").map(lambda x : [x[0],x[2]]).reduceByKey(lambda x,y: min(x,y))\n",
    "    printValuesMin = sorted(dict(processedMin.collect()).items())\n",
    "    for i in printValuesMin:\n",
    "        print(\"{} minimun temperature: {:.2f}\".format(i[0],i[1]))"
   ]
  },
  {
   "cell_type": "code",
   "execution_count": 60,
   "metadata": {},
   "outputs": [],
   "source": [
    "def findMaximum(rdd):\n",
    "    processedMax = rdd.map(parseLines).filter(lambda x: x[1] == \"TMAX\").map(lambda x : [x[0],x[2]]).reduceByKey(lambda x,y: max(x,y))\n",
    "    printValuesMax = sorted(dict(processedMax.collect()).items())\n",
    "    for i in printValuesMax:\n",
    "        print(\"{} maximum temperature: {:.2f}\".format(i[0],i[1]))"
   ]
  },
  {
   "cell_type": "code",
   "execution_count": 61,
   "metadata": {},
   "outputs": [
    {
     "name": "stdout",
     "output_type": "stream",
     "text": [
      "EZE00100082 minimun temperature: 7.70\n",
      "ITE00100554 minimun temperature: 5.36\n",
      "\n",
      "EZE00100082 maximum temperature: 90.14\n",
      "ITE00100554 maximum temperature: 90.14\n"
     ]
    }
   ],
   "source": [
    "findMinimum(rdd)\n",
    "print(\"\")\n",
    "findMaximum(rdd)"
   ]
  },
  {
   "cell_type": "code",
   "execution_count": null,
   "metadata": {},
   "outputs": [],
   "source": []
  }
 ],
 "metadata": {
  "kernelspec": {
   "display_name": "Python 3",
   "language": "python",
   "name": "python3"
  },
  "language_info": {
   "codemirror_mode": {
    "name": "ipython",
    "version": 3
   },
   "file_extension": ".py",
   "mimetype": "text/x-python",
   "name": "python",
   "nbconvert_exporter": "python",
   "pygments_lexer": "ipython3",
   "version": "3.7.6"
  }
 },
 "nbformat": 4,
 "nbformat_minor": 4
}
