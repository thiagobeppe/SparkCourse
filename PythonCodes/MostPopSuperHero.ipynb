{
 "cells": [
  {
   "cell_type": "code",
   "execution_count": 75,
   "metadata": {},
   "outputs": [
    {
     "data": {
      "text/html": [
       "\n",
       "        <div>\n",
       "            <p><b>SparkContext</b></p>\n",
       "\n",
       "            <p><a href=\"http://192.168.0.25:4040\">Spark UI</a></p>\n",
       "\n",
       "            <dl>\n",
       "              <dt>Version</dt>\n",
       "                <dd><code>v3.0.0-preview2</code></dd>\n",
       "              <dt>Master</dt>\n",
       "                <dd><code>local[*]</code></dd>\n",
       "              <dt>AppName</dt>\n",
       "                <dd><code>PySparkShell</code></dd>\n",
       "            </dl>\n",
       "        </div>\n",
       "        "
      ],
      "text/plain": [
       "<SparkContext master=local[*] appName=PySparkShell>"
      ]
     },
     "execution_count": 75,
     "metadata": {},
     "output_type": "execute_result"
    }
   ],
   "source": [
    "from pyspark import SparkContext\n",
    "sc = SparkContext.getOrCreate()\n",
    "sc"
   ]
  },
  {
   "cell_type": "code",
   "execution_count": 76,
   "metadata": {},
   "outputs": [],
   "source": [
    "#Count all the occurrences of the ID, taking only que first position of the graph and count how many relationship it have\n",
    "def countCoOccurrences(line):\n",
    "    elements = line.split(\" \")\n",
    "    print(elements)\n",
    "    return [int(elements[0]), len(elements) - 1 ]"
   ]
  },
  {
   "cell_type": "code",
   "execution_count": 77,
   "metadata": {},
   "outputs": [],
   "source": [
    "#Another way to put the data on the Node is making a rdd with it\n",
    "def parseNames(lines):\n",
    "    line = lines.split(\"\\\"\")\n",
    "    if(len(line)>1):\n",
    "        return [int(line[0].strip()), line[1]]\n",
    "    else:\n",
    "        return None"
   ]
  },
  {
   "cell_type": "code",
   "execution_count": 78,
   "metadata": {},
   "outputs": [
    {
     "data": {
      "text/plain": [
       "[[1, '24-HOUR MAN/EMMANUEL'],\n",
       " [2, '3-D MAN/CHARLES CHAN'],\n",
       " [3, '4-D MAN/MERCURIO'],\n",
       " [4, '8-BALL/'],\n",
       " [5, 'A'],\n",
       " [6, \"A'YIN\"],\n",
       " [7, 'ABBOTT, JACK'],\n",
       " [8, 'ABCISSA'],\n",
       " [9, 'ABEL'],\n",
       " [10, 'ABOMINATION/EMIL BLO']]"
      ]
     },
     "execution_count": 78,
     "metadata": {},
     "output_type": "execute_result"
    }
   ],
   "source": [
    "names = sc.textFile(\"../datasets/Marvel-names.txt\")\n",
    "namesRdd = names.map(parseNames)\n",
    "namesRdd.take(10)"
   ]
  },
  {
   "cell_type": "code",
   "execution_count": 79,
   "metadata": {},
   "outputs": [
    {
     "data": {
      "text/plain": [
       "[(5988, 49),\n",
       " (5982, 43),\n",
       " (5980, 25),\n",
       " (5986, 143),\n",
       " (5984, 42),\n",
       " (6294, 14),\n",
       " (270, 43),\n",
       " (272, 46),\n",
       " (274, 411),\n",
       " (276, 16)]"
      ]
     },
     "execution_count": 79,
     "metadata": {},
     "output_type": "execute_result"
    }
   ],
   "source": [
    "graphValues = sc.textFile(\"../datasets/Marvel-graph.txt\")\n",
    "mappedValues = graphValues.map(countCoOccurrences).reduceByKey(lambda x,y: x+y)\n",
    "mappedValues.take(10)"
   ]
  },
  {
   "cell_type": "code",
   "execution_count": 80,
   "metadata": {},
   "outputs": [],
   "source": [
    "#Flip the data to find the Max with the id and not with de Occurrences\n",
    "flipped = mappedValues.map(lambda x: [x[1],x[0]])\n",
    "findWithName = namesRdd.lookup(flipped.max()[1])[0]"
   ]
  },
  {
   "cell_type": "code",
   "execution_count": 81,
   "metadata": {},
   "outputs": [
    {
     "name": "stdout",
     "output_type": "stream",
     "text": [
      "CAPTAIN AMERICA\n"
     ]
    }
   ],
   "source": [
    "print(findWithName)"
   ]
  },
  {
   "cell_type": "code",
   "execution_count": null,
   "metadata": {},
   "outputs": [],
   "source": []
  }
 ],
 "metadata": {
  "kernelspec": {
   "display_name": "Python 3",
   "language": "python",
   "name": "python3"
  },
  "language_info": {
   "codemirror_mode": {
    "name": "ipython",
    "version": 3
   },
   "file_extension": ".py",
   "mimetype": "text/x-python",
   "name": "python",
   "nbconvert_exporter": "python",
   "pygments_lexer": "ipython3",
   "version": "3.7.6"
  }
 },
 "nbformat": 4,
 "nbformat_minor": 4
}
