{
 "cells": [
  {
   "cell_type": "code",
   "execution_count": 1,
   "metadata": {},
   "outputs": [
    {
     "data": {
      "text/html": [
       "\n",
       "        <div>\n",
       "            <p><b>SparkContext</b></p>\n",
       "\n",
       "            <p><a href=\"http://192.168.0.25:4040\">Spark UI</a></p>\n",
       "\n",
       "            <dl>\n",
       "              <dt>Version</dt>\n",
       "                <dd><code>v3.0.0-preview2</code></dd>\n",
       "              <dt>Master</dt>\n",
       "                <dd><code>local[*]</code></dd>\n",
       "              <dt>AppName</dt>\n",
       "                <dd><code>PySparkShell</code></dd>\n",
       "            </dl>\n",
       "        </div>\n",
       "        "
      ],
      "text/plain": [
       "<SparkContext master=local[*] appName=PySparkShell>"
      ]
     },
     "execution_count": 1,
     "metadata": {},
     "output_type": "execute_result"
    }
   ],
   "source": [
    "#Def our sparkContext\n",
    "from pyspark import SparkContext\n",
    "sc = SparkContext.getOrCreate()\n",
    "sc"
   ]
  },
  {
   "cell_type": "code",
   "execution_count": 5,
   "metadata": {},
   "outputs": [],
   "source": [
    "#Function to extract from data only the things what i need\n",
    "def parseLines(file):\n",
    "    lines = file.split(\",\")\n",
    "    return [int(lines[0]), float(lines[2])]"
   ]
  },
  {
   "cell_type": "code",
   "execution_count": 6,
   "metadata": {},
   "outputs": [
    {
     "data": {
      "text/plain": [
       "['44,8602,37.19',\n",
       " '35,5368,65.89',\n",
       " '2,3391,40.64',\n",
       " '47,6694,14.98',\n",
       " '29,680,13.08',\n",
       " '91,8900,24.59',\n",
       " '70,3959,68.68',\n",
       " '85,1733,28.53',\n",
       " '53,9900,83.55',\n",
       " '14,1505,4.32']"
      ]
     },
     "execution_count": 6,
     "metadata": {},
     "output_type": "execute_result"
    }
   ],
   "source": [
    "#Read a file\n",
    "file = sc.textFile(\"../datasets/customer-orders.csv\")\n",
    "file.take(10)"
   ]
  },
  {
   "cell_type": "code",
   "execution_count": 7,
   "metadata": {},
   "outputs": [
    {
     "data": {
      "text/plain": [
       "[[44, 37.19],\n",
       " [35, 65.89],\n",
       " [2, 40.64],\n",
       " [47, 14.98],\n",
       " [29, 13.08],\n",
       " [91, 24.59],\n",
       " [70, 68.68],\n",
       " [85, 28.53],\n",
       " [53, 83.55],\n",
       " [14, 4.32]]"
      ]
     },
     "execution_count": 7,
     "metadata": {},
     "output_type": "execute_result"
    }
   ],
   "source": [
    "#Apply the function to extract Uid and amount\n",
    "rdd = file.map(parseLines)\n",
    "rdd.take(10)"
   ]
  },
  {
   "cell_type": "code",
   "execution_count": 9,
   "metadata": {},
   "outputs": [
    {
     "data": {
      "text/plain": [
       "[(44, 4756.890000000001),\n",
       " (2, 5994.59),\n",
       " (70, 5368.249999999999),\n",
       " (14, 4735.030000000001),\n",
       " (42, 5696.840000000002),\n",
       " (50, 4517.2699999999995),\n",
       " (20, 4836.860000000001),\n",
       " (48, 4384.33),\n",
       " (4, 4815.050000000001),\n",
       " (36, 4278.049999999999)]"
      ]
     },
     "execution_count": 9,
     "metadata": {},
     "output_type": "execute_result"
    }
   ],
   "source": [
    "#Make a reduce to sum all the amount\n",
    "reduced = rdd.reduceByKey(lambda x,y: x+y)\n",
    "reduced.take(10)"
   ]
  },
  {
   "cell_type": "code",
   "execution_count": 10,
   "metadata": {},
   "outputs": [
    {
     "data": {
      "text/plain": [
       "[[4756.890000000001, 44],\n",
       " [5994.59, 2],\n",
       " [5368.249999999999, 70],\n",
       " [4735.030000000001, 14],\n",
       " [5696.840000000002, 42],\n",
       " [4517.2699999999995, 50],\n",
       " [4836.860000000001, 20],\n",
       " [4384.33, 48],\n",
       " [4815.050000000001, 4],\n",
       " [4278.049999999999, 36]]"
      ]
     },
     "execution_count": 10,
     "metadata": {},
     "output_type": "execute_result"
    }
   ],
   "source": [
    "#Transform the value in key to sort by it\n",
    "flipped = reduced.map(lambda x: [x[1],x[0]])\n",
    "flipped.take(10)"
   ]
  },
  {
   "cell_type": "code",
   "execution_count": 11,
   "metadata": {},
   "outputs": [
    {
     "data": {
      "text/plain": [
       "[(3309.3799999999997, 45),\n",
       " (3790.5699999999997, 79),\n",
       " (3924.2300000000005, 96),\n",
       " (4042.65, 23),\n",
       " (4172.29, 99),\n",
       " (4178.5, 75),\n",
       " (4278.049999999999, 36),\n",
       " (4297.259999999999, 98),\n",
       " (4316.299999999998, 47),\n",
       " (4327.73, 77)]"
      ]
     },
     "execution_count": 11,
     "metadata": {},
     "output_type": "execute_result"
    }
   ],
   "source": [
    "#Sort it\n",
    "sortByAmount = flipped.sortByKey()\n",
    "sortByAmount.take(10)"
   ]
  },
  {
   "cell_type": "code",
   "execution_count": 17,
   "metadata": {},
   "outputs": [
    {
     "name": "stdout",
     "output_type": "stream",
     "text": [
      "User: 45 . Amount: 3309.38\n",
      "User: 79 . Amount: 3790.57\n",
      "User: 96 . Amount: 3924.23\n",
      "User: 23 . Amount: 4042.65\n",
      "User: 99 . Amount: 4172.29\n",
      "User: 75 . Amount: 4178.50\n",
      "User: 36 . Amount: 4278.05\n",
      "User: 98 . Amount: 4297.26\n",
      "User: 47 . Amount: 4316.30\n",
      "User: 77 . Amount: 4327.73\n",
      "User: 13 . Amount: 4367.62\n",
      "User: 48 . Amount: 4384.33\n",
      "User: 49 . Amount: 4394.60\n",
      "User: 94 . Amount: 4475.57\n",
      "User: 67 . Amount: 4505.79\n",
      "User: 50 . Amount: 4517.27\n",
      "User: 78 . Amount: 4524.51\n",
      "User: 5 . Amount: 4561.07\n",
      "User: 57 . Amount: 4628.40\n",
      "User: 83 . Amount: 4635.80\n",
      "User: 91 . Amount: 4642.26\n",
      "User: 74 . Amount: 4647.13\n",
      "User: 84 . Amount: 4652.94\n",
      "User: 3 . Amount: 4659.63\n",
      "User: 12 . Amount: 4664.59\n",
      "User: 66 . Amount: 4681.92\n",
      "User: 56 . Amount: 4701.02\n",
      "User: 21 . Amount: 4707.41\n",
      "User: 80 . Amount: 4727.86\n",
      "User: 14 . Amount: 4735.03\n",
      "User: 37 . Amount: 4735.20\n",
      "User: 7 . Amount: 4755.07\n",
      "User: 44 . Amount: 4756.89\n",
      "User: 31 . Amount: 4765.05\n",
      "User: 82 . Amount: 4812.49\n",
      "User: 4 . Amount: 4815.05\n",
      "User: 10 . Amount: 4819.70\n",
      "User: 88 . Amount: 4830.55\n",
      "User: 20 . Amount: 4836.86\n",
      "User: 89 . Amount: 4851.48\n",
      "User: 95 . Amount: 4876.84\n",
      "User: 38 . Amount: 4898.46\n",
      "User: 76 . Amount: 4904.21\n",
      "User: 86 . Amount: 4908.81\n",
      "User: 27 . Amount: 4915.89\n",
      "User: 18 . Amount: 4921.27\n",
      "User: 53 . Amount: 4945.30\n",
      "User: 1 . Amount: 4958.60\n",
      "User: 51 . Amount: 4975.22\n",
      "User: 16 . Amount: 4979.06\n",
      "User: 30 . Amount: 4990.72\n",
      "User: 28 . Amount: 5000.71\n",
      "User: 22 . Amount: 5019.45\n",
      "User: 29 . Amount: 5032.53\n",
      "User: 17 . Amount: 5032.68\n",
      "User: 60 . Amount: 5040.71\n",
      "User: 25 . Amount: 5057.61\n",
      "User: 19 . Amount: 5059.43\n",
      "User: 81 . Amount: 5112.71\n",
      "User: 69 . Amount: 5123.01\n",
      "User: 65 . Amount: 5140.35\n",
      "User: 11 . Amount: 5152.29\n",
      "User: 35 . Amount: 5155.42\n",
      "User: 40 . Amount: 5186.43\n",
      "User: 87 . Amount: 5206.40\n",
      "User: 52 . Amount: 5245.06\n",
      "User: 26 . Amount: 5250.40\n",
      "User: 62 . Amount: 5253.32\n",
      "User: 33 . Amount: 5254.66\n",
      "User: 24 . Amount: 5259.92\n",
      "User: 93 . Amount: 5265.75\n",
      "User: 64 . Amount: 5288.69\n",
      "User: 90 . Amount: 5290.41\n",
      "User: 55 . Amount: 5298.09\n",
      "User: 9 . Amount: 5322.65\n",
      "User: 34 . Amount: 5330.80\n",
      "User: 72 . Amount: 5337.44\n",
      "User: 70 . Amount: 5368.25\n",
      "User: 43 . Amount: 5368.83\n",
      "User: 92 . Amount: 5379.28\n",
      "User: 6 . Amount: 5397.88\n",
      "User: 15 . Amount: 5413.51\n",
      "User: 63 . Amount: 5415.15\n",
      "User: 58 . Amount: 5437.73\n",
      "User: 32 . Amount: 5496.05\n",
      "User: 61 . Amount: 5497.48\n",
      "User: 85 . Amount: 5503.43\n",
      "User: 8 . Amount: 5517.24\n",
      "User: 0 . Amount: 5524.95\n",
      "User: 41 . Amount: 5637.62\n",
      "User: 59 . Amount: 5642.89\n",
      "User: 42 . Amount: 5696.84\n",
      "User: 46 . Amount: 5963.11\n",
      "User: 97 . Amount: 5977.19\n",
      "User: 2 . Amount: 5994.59\n",
      "User: 71 . Amount: 5995.66\n",
      "User: 54 . Amount: 6065.39\n",
      "User: 39 . Amount: 6193.11\n",
      "User: 73 . Amount: 6206.20\n",
      "User: 68 . Amount: 6375.45\n"
     ]
    }
   ],
   "source": [
    "#Print in the console a formatted string\n",
    "results =  sortByAmount.collect()\n",
    "for result in results:\n",
    "    print(\"User: {} . Amount: {:.02f}\".format(result[1], result[0]))"
   ]
  },
  {
   "cell_type": "code",
   "execution_count": 19,
   "metadata": {},
   "outputs": [],
   "source": [
    "def totalAmountByCostumer(rdd):\n",
    "    preProcessed = rdd.map(parseLines).reduceByKey(lambda x,y: x+y)\n",
    "    flippedAndSorted = preProcessed.map(lambda x: [x[1],x[0]]).sortByKey()\n",
    "    for result in flippedAndSorted.collect():\n",
    "        print(\"User: {} . Amount: {:.02f}\".format(result[1], result[0]))"
   ]
  },
  {
   "cell_type": "code",
   "execution_count": 20,
   "metadata": {},
   "outputs": [
    {
     "name": "stdout",
     "output_type": "stream",
     "text": [
      "User: 45 . Amount: 3309.38\n",
      "User: 79 . Amount: 3790.57\n",
      "User: 96 . Amount: 3924.23\n",
      "User: 23 . Amount: 4042.65\n",
      "User: 99 . Amount: 4172.29\n",
      "User: 75 . Amount: 4178.50\n",
      "User: 36 . Amount: 4278.05\n",
      "User: 98 . Amount: 4297.26\n",
      "User: 47 . Amount: 4316.30\n",
      "User: 77 . Amount: 4327.73\n",
      "User: 13 . Amount: 4367.62\n",
      "User: 48 . Amount: 4384.33\n",
      "User: 49 . Amount: 4394.60\n",
      "User: 94 . Amount: 4475.57\n",
      "User: 67 . Amount: 4505.79\n",
      "User: 50 . Amount: 4517.27\n",
      "User: 78 . Amount: 4524.51\n",
      "User: 5 . Amount: 4561.07\n",
      "User: 57 . Amount: 4628.40\n",
      "User: 83 . Amount: 4635.80\n",
      "User: 91 . Amount: 4642.26\n",
      "User: 74 . Amount: 4647.13\n",
      "User: 84 . Amount: 4652.94\n",
      "User: 3 . Amount: 4659.63\n",
      "User: 12 . Amount: 4664.59\n",
      "User: 66 . Amount: 4681.92\n",
      "User: 56 . Amount: 4701.02\n",
      "User: 21 . Amount: 4707.41\n",
      "User: 80 . Amount: 4727.86\n",
      "User: 14 . Amount: 4735.03\n",
      "User: 37 . Amount: 4735.20\n",
      "User: 7 . Amount: 4755.07\n",
      "User: 44 . Amount: 4756.89\n",
      "User: 31 . Amount: 4765.05\n",
      "User: 82 . Amount: 4812.49\n",
      "User: 4 . Amount: 4815.05\n",
      "User: 10 . Amount: 4819.70\n",
      "User: 88 . Amount: 4830.55\n",
      "User: 20 . Amount: 4836.86\n",
      "User: 89 . Amount: 4851.48\n",
      "User: 95 . Amount: 4876.84\n",
      "User: 38 . Amount: 4898.46\n",
      "User: 76 . Amount: 4904.21\n",
      "User: 86 . Amount: 4908.81\n",
      "User: 27 . Amount: 4915.89\n",
      "User: 18 . Amount: 4921.27\n",
      "User: 53 . Amount: 4945.30\n",
      "User: 1 . Amount: 4958.60\n",
      "User: 51 . Amount: 4975.22\n",
      "User: 16 . Amount: 4979.06\n",
      "User: 30 . Amount: 4990.72\n",
      "User: 28 . Amount: 5000.71\n",
      "User: 22 . Amount: 5019.45\n",
      "User: 29 . Amount: 5032.53\n",
      "User: 17 . Amount: 5032.68\n",
      "User: 60 . Amount: 5040.71\n",
      "User: 25 . Amount: 5057.61\n",
      "User: 19 . Amount: 5059.43\n",
      "User: 81 . Amount: 5112.71\n",
      "User: 69 . Amount: 5123.01\n",
      "User: 65 . Amount: 5140.35\n",
      "User: 11 . Amount: 5152.29\n",
      "User: 35 . Amount: 5155.42\n",
      "User: 40 . Amount: 5186.43\n",
      "User: 87 . Amount: 5206.40\n",
      "User: 52 . Amount: 5245.06\n",
      "User: 26 . Amount: 5250.40\n",
      "User: 62 . Amount: 5253.32\n",
      "User: 33 . Amount: 5254.66\n",
      "User: 24 . Amount: 5259.92\n",
      "User: 93 . Amount: 5265.75\n",
      "User: 64 . Amount: 5288.69\n",
      "User: 90 . Amount: 5290.41\n",
      "User: 55 . Amount: 5298.09\n",
      "User: 9 . Amount: 5322.65\n",
      "User: 34 . Amount: 5330.80\n",
      "User: 72 . Amount: 5337.44\n",
      "User: 70 . Amount: 5368.25\n",
      "User: 43 . Amount: 5368.83\n",
      "User: 92 . Amount: 5379.28\n",
      "User: 6 . Amount: 5397.88\n",
      "User: 15 . Amount: 5413.51\n",
      "User: 63 . Amount: 5415.15\n",
      "User: 58 . Amount: 5437.73\n",
      "User: 32 . Amount: 5496.05\n",
      "User: 61 . Amount: 5497.48\n",
      "User: 85 . Amount: 5503.43\n",
      "User: 8 . Amount: 5517.24\n",
      "User: 0 . Amount: 5524.95\n",
      "User: 41 . Amount: 5637.62\n",
      "User: 59 . Amount: 5642.89\n",
      "User: 42 . Amount: 5696.84\n",
      "User: 46 . Amount: 5963.11\n",
      "User: 97 . Amount: 5977.19\n",
      "User: 2 . Amount: 5994.59\n",
      "User: 71 . Amount: 5995.66\n",
      "User: 54 . Amount: 6065.39\n",
      "User: 39 . Amount: 6193.11\n",
      "User: 73 . Amount: 6206.20\n",
      "User: 68 . Amount: 6375.45\n"
     ]
    }
   ],
   "source": [
    "totalAmountByCostumer(file)"
   ]
  },
  {
   "cell_type": "code",
   "execution_count": null,
   "metadata": {},
   "outputs": [],
   "source": []
  }
 ],
 "metadata": {
  "kernelspec": {
   "display_name": "Python 3",
   "language": "python",
   "name": "python3"
  },
  "language_info": {
   "codemirror_mode": {
    "name": "ipython",
    "version": 3
   },
   "file_extension": ".py",
   "mimetype": "text/x-python",
   "name": "python",
   "nbconvert_exporter": "python",
   "pygments_lexer": "ipython3",
   "version": "3.7.6"
  }
 },
 "nbformat": 4,
 "nbformat_minor": 4
}
